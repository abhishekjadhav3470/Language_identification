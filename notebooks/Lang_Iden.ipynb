{
  "nbformat": 4,
  "nbformat_minor": 0,
  "metadata": {
    "colab": {
      "provenance": [],
      "gpuType": "T4"
    },
    "kernelspec": {
      "name": "python3",
      "display_name": "Python 3"
    },
    "language_info": {
      "name": "python"
    },
    "accelerator": "GPU"
  },
  "cells": [
    {
      "cell_type": "code",
      "execution_count": 1,
      "metadata": {
        "colab": {
          "base_uri": "https://localhost:8080/"
        },
        "id": "Iyz0ycqhqEV0",
        "outputId": "a4699286-2d83-4d7a-c6f3-301e6f367a30"
      },
      "outputs": [
        {
          "output_type": "stream",
          "name": "stdout",
          "text": [
            "Drive already mounted at /content/drive; to attempt to forcibly remount, call drive.mount(\"/content/drive\", force_remount=True).\n"
          ]
        }
      ],
      "source": [
        "from google.colab import drive\n",
        "\n",
        "# This will prompt for authorization.\n",
        "drive.mount('/content/drive')\n"
      ]
    },
    {
      "cell_type": "code",
      "source": [
        "from scipy.io import wavfile\n",
        "import warnings\n",
        "import os\n",
        "import zipfile\n",
        "import pandas as pd\n",
        "from sklearn import preprocessing\n",
        "\n",
        "warnings.filterwarnings('ignore')"
      ],
      "metadata": {
        "id": "QP_NXT48ttCo"
      },
      "execution_count": 2,
      "outputs": []
    },
    {
      "cell_type": "code",
      "source": [
        "raw_file_path = '/content/drive/MyDrive/language-audio-data.zip'\n",
        "target_dir = 'final_data'\n",
        "os.makedirs(target_dir, exist_ok=True)\n",
        "\n",
        "with zipfile.ZipFile(raw_file_path,\"r\") as zip_f:\n",
        "    zip_f.extractall(target_dir)"
      ],
      "metadata": {
        "id": "aKpiwFO3uQdf"
      },
      "execution_count": 3,
      "outputs": []
    },
    {
      "cell_type": "markdown",
      "source": [
        "### Check the number of files in each class"
      ],
      "metadata": {
        "id": "06LdcLKumSuJ"
      }
    },
    {
      "cell_type": "code",
      "source": [
        "audio_dir1 = os.path.join(target_dir,'language-audio-data')\n",
        "os.listdir(audio_dir1)"
      ],
      "metadata": {
        "colab": {
          "base_uri": "https://localhost:8080/"
        },
        "id": "sD7pQrKwmTic",
        "outputId": "fd03cc77-95da-4946-8cc1-1a86899f8691"
      },
      "execution_count": 4,
      "outputs": [
        {
          "output_type": "execute_result",
          "data": {
            "text/plain": [
              "['Telugu', 'Tamil', 'Kannada', 'Hindi']"
            ]
          },
          "metadata": {},
          "execution_count": 4
        }
      ]
    },
    {
      "cell_type": "code",
      "source": [
        "classes = []\n",
        "for i in os.listdir(audio_dir1):\n",
        "    classes.append(i)\n",
        "    class_path = audio_dir1 + '/' + str(i)\n",
        "    audio_clips = os.listdir(class_path)\n",
        "    print(f\"No. of .wav files in audio {i} folder = \",len(audio_clips))"
      ],
      "metadata": {
        "colab": {
          "base_uri": "https://localhost:8080/"
        },
        "id": "36S1rTV0ma7d",
        "outputId": "7f9ef2bd-a402-4762-d273-61eb58f88a26"
      },
      "execution_count": 5,
      "outputs": [
        {
          "output_type": "stream",
          "name": "stdout",
          "text": [
            "No. of .wav files in audio Telugu folder =  2002\n",
            "No. of .wav files in audio Tamil folder =  2002\n",
            "No. of .wav files in audio Kannada folder =  2002\n",
            "No. of .wav files in audio Hindi folder =  2002\n"
          ]
        }
      ]
    },
    {
      "cell_type": "markdown",
      "source": [
        "### Convert MP3 to wave"
      ],
      "metadata": {
        "id": "1FeayrWqmrb4"
      }
    },
    {
      "cell_type": "code",
      "source": [
        "# from os import path\n",
        "# from pydub import AudioSegment\n",
        "\n",
        "# os.makedirs(\"final_wav\", exist_ok=True)\n",
        "\n",
        "# for folder in os.listdir(audio_dir1):\n",
        "#     class_path = audio_dir1 + '/' + str(folder)\n",
        "#     for count, files in enumerate(os.listdir(class_path)):\n",
        "#       src = f\"{audio_dir1}/{folder}/{files}\"\n",
        "#       file_name = f\"{folder}-{str(count)}.wav\"\n",
        "#       dst = f\"final_wav/{folder}\"W\n",
        "#       os.makedirs(dst, exist_ok=True)\n",
        "#       dst = f\"final_wav/{folder}/{file_name}\"\n",
        "#       sound = AudioSegment.from_mp3(src)\n",
        "#       sound.export(dst, format=\"wav\")"
      ],
      "metadata": {
        "id": "tG3T1HHlmvwT"
      },
      "execution_count": 6,
      "outputs": []
    },
    {
      "cell_type": "markdown",
      "source": [
        "### Create Metadata for your dataset"
      ],
      "metadata": {
        "id": "5SJqcPbgm5-3"
      }
    },
    {
      "cell_type": "code",
      "source": [
        "# rename the files\n",
        "\n",
        "for folder in os.listdir(audio_dir1):\n",
        "    class_path = audio_dir1 + '/' + str(folder)\n",
        "    for count, files in enumerate(os.listdir(class_path)):\n",
        "        try:\n",
        "            dst = f\"{folder}1-{str(count)}.wav\"\n",
        "            src =f\"{audio_dir1}/{folder}/{files}\"\n",
        "            dst =f\"{audio_dir1}/{folder}/{dst}\"\n",
        "            os.rename(src, dst)\n",
        "        except FileExistsError:\n",
        "             pass"
      ],
      "metadata": {
        "id": "hDV9THhqm6ej"
      },
      "execution_count": 7,
      "outputs": []
    },
    {
      "cell_type": "code",
      "source": [
        "### create meta data\n",
        "\n",
        "wav_dir = '/content/final_data/language-audio-data'\n",
        "\n",
        "metadata = {}\n",
        "for label in os.listdir(wav_dir):\n",
        "    class_path = wav_dir + '/' + str(label)\n",
        "    audio_clips = os.listdir(class_path)\n",
        "    for filename in audio_clips:\n",
        "        metadata[filename] = label\n",
        "\n",
        "# Create a metadata csv file\n",
        "metadata = pd.DataFrame.from_dict(metadata, orient='index').reset_index().sort_values(by=0)\n",
        "metadata.columns = ['filename', 'foldername']\n",
        "le = preprocessing.LabelEncoder()\n",
        "metadata['labels'] = le.fit_transform(metadata.foldername)\n",
        "metadata.to_csv('metadata.csv', index=False)\n",
        "metadata"
      ],
      "metadata": {
        "colab": {
          "base_uri": "https://localhost:8080/",
          "height": 423
        },
        "id": "1WQir97pm9RT",
        "outputId": "72fd7e03-f575-4fff-dc3f-a9c16fb23a96"
      },
      "execution_count": 8,
      "outputs": [
        {
          "output_type": "execute_result",
          "data": {
            "text/plain": [
              "              filename foldername  labels\n",
              "5016   Hindi1-1264.wav      Hindi       0\n",
              "4171   Hindi1-1683.wav      Hindi       0\n",
              "4172    Hindi1-882.wav      Hindi       0\n",
              "4173   Hindi1-1337.wav      Hindi       0\n",
              "4174    Hindi1-708.wav      Hindi       0\n",
              "...                ...        ...     ...\n",
              "837   Telugu1-1998.wav     Telugu       3\n",
              "838   Telugu1-1906.wav     Telugu       3\n",
              "839   Telugu1-1359.wav     Telugu       3\n",
              "832   Telugu1-1854.wav     Telugu       3\n",
              "0     Telugu1-1809.wav     Telugu       3\n",
              "\n",
              "[5017 rows x 3 columns]"
            ],
            "text/html": [
              "\n",
              "  <div id=\"df-92131165-e407-4cbb-9b83-ab1955d658f2\" class=\"colab-df-container\">\n",
              "    <div>\n",
              "<style scoped>\n",
              "    .dataframe tbody tr th:only-of-type {\n",
              "        vertical-align: middle;\n",
              "    }\n",
              "\n",
              "    .dataframe tbody tr th {\n",
              "        vertical-align: top;\n",
              "    }\n",
              "\n",
              "    .dataframe thead th {\n",
              "        text-align: right;\n",
              "    }\n",
              "</style>\n",
              "<table border=\"1\" class=\"dataframe\">\n",
              "  <thead>\n",
              "    <tr style=\"text-align: right;\">\n",
              "      <th></th>\n",
              "      <th>filename</th>\n",
              "      <th>foldername</th>\n",
              "      <th>labels</th>\n",
              "    </tr>\n",
              "  </thead>\n",
              "  <tbody>\n",
              "    <tr>\n",
              "      <th>5016</th>\n",
              "      <td>Hindi1-1264.wav</td>\n",
              "      <td>Hindi</td>\n",
              "      <td>0</td>\n",
              "    </tr>\n",
              "    <tr>\n",
              "      <th>4171</th>\n",
              "      <td>Hindi1-1683.wav</td>\n",
              "      <td>Hindi</td>\n",
              "      <td>0</td>\n",
              "    </tr>\n",
              "    <tr>\n",
              "      <th>4172</th>\n",
              "      <td>Hindi1-882.wav</td>\n",
              "      <td>Hindi</td>\n",
              "      <td>0</td>\n",
              "    </tr>\n",
              "    <tr>\n",
              "      <th>4173</th>\n",
              "      <td>Hindi1-1337.wav</td>\n",
              "      <td>Hindi</td>\n",
              "      <td>0</td>\n",
              "    </tr>\n",
              "    <tr>\n",
              "      <th>4174</th>\n",
              "      <td>Hindi1-708.wav</td>\n",
              "      <td>Hindi</td>\n",
              "      <td>0</td>\n",
              "    </tr>\n",
              "    <tr>\n",
              "      <th>...</th>\n",
              "      <td>...</td>\n",
              "      <td>...</td>\n",
              "      <td>...</td>\n",
              "    </tr>\n",
              "    <tr>\n",
              "      <th>837</th>\n",
              "      <td>Telugu1-1998.wav</td>\n",
              "      <td>Telugu</td>\n",
              "      <td>3</td>\n",
              "    </tr>\n",
              "    <tr>\n",
              "      <th>838</th>\n",
              "      <td>Telugu1-1906.wav</td>\n",
              "      <td>Telugu</td>\n",
              "      <td>3</td>\n",
              "    </tr>\n",
              "    <tr>\n",
              "      <th>839</th>\n",
              "      <td>Telugu1-1359.wav</td>\n",
              "      <td>Telugu</td>\n",
              "      <td>3</td>\n",
              "    </tr>\n",
              "    <tr>\n",
              "      <th>832</th>\n",
              "      <td>Telugu1-1854.wav</td>\n",
              "      <td>Telugu</td>\n",
              "      <td>3</td>\n",
              "    </tr>\n",
              "    <tr>\n",
              "      <th>0</th>\n",
              "      <td>Telugu1-1809.wav</td>\n",
              "      <td>Telugu</td>\n",
              "      <td>3</td>\n",
              "    </tr>\n",
              "  </tbody>\n",
              "</table>\n",
              "<p>5017 rows × 3 columns</p>\n",
              "</div>\n",
              "    <div class=\"colab-df-buttons\">\n",
              "\n",
              "  <div class=\"colab-df-container\">\n",
              "    <button class=\"colab-df-convert\" onclick=\"convertToInteractive('df-92131165-e407-4cbb-9b83-ab1955d658f2')\"\n",
              "            title=\"Convert this dataframe to an interactive table.\"\n",
              "            style=\"display:none;\">\n",
              "\n",
              "  <svg xmlns=\"http://www.w3.org/2000/svg\" height=\"24px\" viewBox=\"0 -960 960 960\">\n",
              "    <path d=\"M120-120v-720h720v720H120Zm60-500h600v-160H180v160Zm220 220h160v-160H400v160Zm0 220h160v-160H400v160ZM180-400h160v-160H180v160Zm440 0h160v-160H620v160ZM180-180h160v-160H180v160Zm440 0h160v-160H620v160Z\"/>\n",
              "  </svg>\n",
              "    </button>\n",
              "\n",
              "  <style>\n",
              "    .colab-df-container {\n",
              "      display:flex;\n",
              "      gap: 12px;\n",
              "    }\n",
              "\n",
              "    .colab-df-convert {\n",
              "      background-color: #E8F0FE;\n",
              "      border: none;\n",
              "      border-radius: 50%;\n",
              "      cursor: pointer;\n",
              "      display: none;\n",
              "      fill: #1967D2;\n",
              "      height: 32px;\n",
              "      padding: 0 0 0 0;\n",
              "      width: 32px;\n",
              "    }\n",
              "\n",
              "    .colab-df-convert:hover {\n",
              "      background-color: #E2EBFA;\n",
              "      box-shadow: 0px 1px 2px rgba(60, 64, 67, 0.3), 0px 1px 3px 1px rgba(60, 64, 67, 0.15);\n",
              "      fill: #174EA6;\n",
              "    }\n",
              "\n",
              "    .colab-df-buttons div {\n",
              "      margin-bottom: 4px;\n",
              "    }\n",
              "\n",
              "    [theme=dark] .colab-df-convert {\n",
              "      background-color: #3B4455;\n",
              "      fill: #D2E3FC;\n",
              "    }\n",
              "\n",
              "    [theme=dark] .colab-df-convert:hover {\n",
              "      background-color: #434B5C;\n",
              "      box-shadow: 0px 1px 3px 1px rgba(0, 0, 0, 0.15);\n",
              "      filter: drop-shadow(0px 1px 2px rgba(0, 0, 0, 0.3));\n",
              "      fill: #FFFFFF;\n",
              "    }\n",
              "  </style>\n",
              "\n",
              "    <script>\n",
              "      const buttonEl =\n",
              "        document.querySelector('#df-92131165-e407-4cbb-9b83-ab1955d658f2 button.colab-df-convert');\n",
              "      buttonEl.style.display =\n",
              "        google.colab.kernel.accessAllowed ? 'block' : 'none';\n",
              "\n",
              "      async function convertToInteractive(key) {\n",
              "        const element = document.querySelector('#df-92131165-e407-4cbb-9b83-ab1955d658f2');\n",
              "        const dataTable =\n",
              "          await google.colab.kernel.invokeFunction('convertToInteractive',\n",
              "                                                    [key], {});\n",
              "        if (!dataTable) return;\n",
              "\n",
              "        const docLinkHtml = 'Like what you see? Visit the ' +\n",
              "          '<a target=\"_blank\" href=https://colab.research.google.com/notebooks/data_table.ipynb>data table notebook</a>'\n",
              "          + ' to learn more about interactive tables.';\n",
              "        element.innerHTML = '';\n",
              "        dataTable['output_type'] = 'display_data';\n",
              "        await google.colab.output.renderOutput(dataTable, element);\n",
              "        const docLink = document.createElement('div');\n",
              "        docLink.innerHTML = docLinkHtml;\n",
              "        element.appendChild(docLink);\n",
              "      }\n",
              "    </script>\n",
              "  </div>\n",
              "\n",
              "\n",
              "<div id=\"df-da3d3aa1-4c54-4ba8-aa67-b4c1738ee744\">\n",
              "  <button class=\"colab-df-quickchart\" onclick=\"quickchart('df-da3d3aa1-4c54-4ba8-aa67-b4c1738ee744')\"\n",
              "            title=\"Suggest charts\"\n",
              "            style=\"display:none;\">\n",
              "\n",
              "<svg xmlns=\"http://www.w3.org/2000/svg\" height=\"24px\"viewBox=\"0 0 24 24\"\n",
              "     width=\"24px\">\n",
              "    <g>\n",
              "        <path d=\"M19 3H5c-1.1 0-2 .9-2 2v14c0 1.1.9 2 2 2h14c1.1 0 2-.9 2-2V5c0-1.1-.9-2-2-2zM9 17H7v-7h2v7zm4 0h-2V7h2v10zm4 0h-2v-4h2v4z\"/>\n",
              "    </g>\n",
              "</svg>\n",
              "  </button>\n",
              "\n",
              "<style>\n",
              "  .colab-df-quickchart {\n",
              "      --bg-color: #E8F0FE;\n",
              "      --fill-color: #1967D2;\n",
              "      --hover-bg-color: #E2EBFA;\n",
              "      --hover-fill-color: #174EA6;\n",
              "      --disabled-fill-color: #AAA;\n",
              "      --disabled-bg-color: #DDD;\n",
              "  }\n",
              "\n",
              "  [theme=dark] .colab-df-quickchart {\n",
              "      --bg-color: #3B4455;\n",
              "      --fill-color: #D2E3FC;\n",
              "      --hover-bg-color: #434B5C;\n",
              "      --hover-fill-color: #FFFFFF;\n",
              "      --disabled-bg-color: #3B4455;\n",
              "      --disabled-fill-color: #666;\n",
              "  }\n",
              "\n",
              "  .colab-df-quickchart {\n",
              "    background-color: var(--bg-color);\n",
              "    border: none;\n",
              "    border-radius: 50%;\n",
              "    cursor: pointer;\n",
              "    display: none;\n",
              "    fill: var(--fill-color);\n",
              "    height: 32px;\n",
              "    padding: 0;\n",
              "    width: 32px;\n",
              "  }\n",
              "\n",
              "  .colab-df-quickchart:hover {\n",
              "    background-color: var(--hover-bg-color);\n",
              "    box-shadow: 0 1px 2px rgba(60, 64, 67, 0.3), 0 1px 3px 1px rgba(60, 64, 67, 0.15);\n",
              "    fill: var(--button-hover-fill-color);\n",
              "  }\n",
              "\n",
              "  .colab-df-quickchart-complete:disabled,\n",
              "  .colab-df-quickchart-complete:disabled:hover {\n",
              "    background-color: var(--disabled-bg-color);\n",
              "    fill: var(--disabled-fill-color);\n",
              "    box-shadow: none;\n",
              "  }\n",
              "\n",
              "  .colab-df-spinner {\n",
              "    border: 2px solid var(--fill-color);\n",
              "    border-color: transparent;\n",
              "    border-bottom-color: var(--fill-color);\n",
              "    animation:\n",
              "      spin 1s steps(1) infinite;\n",
              "  }\n",
              "\n",
              "  @keyframes spin {\n",
              "    0% {\n",
              "      border-color: transparent;\n",
              "      border-bottom-color: var(--fill-color);\n",
              "      border-left-color: var(--fill-color);\n",
              "    }\n",
              "    20% {\n",
              "      border-color: transparent;\n",
              "      border-left-color: var(--fill-color);\n",
              "      border-top-color: var(--fill-color);\n",
              "    }\n",
              "    30% {\n",
              "      border-color: transparent;\n",
              "      border-left-color: var(--fill-color);\n",
              "      border-top-color: var(--fill-color);\n",
              "      border-right-color: var(--fill-color);\n",
              "    }\n",
              "    40% {\n",
              "      border-color: transparent;\n",
              "      border-right-color: var(--fill-color);\n",
              "      border-top-color: var(--fill-color);\n",
              "    }\n",
              "    60% {\n",
              "      border-color: transparent;\n",
              "      border-right-color: var(--fill-color);\n",
              "    }\n",
              "    80% {\n",
              "      border-color: transparent;\n",
              "      border-right-color: var(--fill-color);\n",
              "      border-bottom-color: var(--fill-color);\n",
              "    }\n",
              "    90% {\n",
              "      border-color: transparent;\n",
              "      border-bottom-color: var(--fill-color);\n",
              "    }\n",
              "  }\n",
              "</style>\n",
              "\n",
              "  <script>\n",
              "    async function quickchart(key) {\n",
              "      const quickchartButtonEl =\n",
              "        document.querySelector('#' + key + ' button');\n",
              "      quickchartButtonEl.disabled = true;  // To prevent multiple clicks.\n",
              "      quickchartButtonEl.classList.add('colab-df-spinner');\n",
              "      try {\n",
              "        const charts = await google.colab.kernel.invokeFunction(\n",
              "            'suggestCharts', [key], {});\n",
              "      } catch (error) {\n",
              "        console.error('Error during call to suggestCharts:', error);\n",
              "      }\n",
              "      quickchartButtonEl.classList.remove('colab-df-spinner');\n",
              "      quickchartButtonEl.classList.add('colab-df-quickchart-complete');\n",
              "    }\n",
              "    (() => {\n",
              "      let quickchartButtonEl =\n",
              "        document.querySelector('#df-da3d3aa1-4c54-4ba8-aa67-b4c1738ee744 button');\n",
              "      quickchartButtonEl.style.display =\n",
              "        google.colab.kernel.accessAllowed ? 'block' : 'none';\n",
              "    })();\n",
              "  </script>\n",
              "</div>\n",
              "    </div>\n",
              "  </div>\n"
            ]
          },
          "metadata": {},
          "execution_count": 8
        }
      ]
    },
    {
      "cell_type": "code",
      "source": [
        "# Check the mappings\n",
        "le_name_mapping = dict(zip(le.classes_, le.transform(le.classes_)))\n",
        "print(le_name_mapping)"
      ],
      "metadata": {
        "colab": {
          "base_uri": "https://localhost:8080/"
        },
        "id": "E1hQP19TnVLr",
        "outputId": "f0ee8d17-510c-447e-b78c-263832abd659"
      },
      "execution_count": 9,
      "outputs": [
        {
          "output_type": "stream",
          "name": "stdout",
          "text": [
            "{'Hindi': 0, 'Kannada': 1, 'Tamil': 2, 'Telugu': 3}\n"
          ]
        }
      ]
    },
    {
      "cell_type": "markdown",
      "source": [
        "Custom PyTorch Dataset"
      ],
      "metadata": {
        "id": "JaJK1Cx0n5S_"
      }
    },
    {
      "cell_type": "code",
      "source": [
        "# import-libraries\n",
        "\n",
        "import torch\n",
        "from torch.utils.data import Dataset\n",
        "import torchaudio\n",
        "import pandas as pd"
      ],
      "metadata": {
        "id": "amwXzr9wn7ZT"
      },
      "execution_count": 10,
      "outputs": []
    },
    {
      "cell_type": "code",
      "source": [
        "class IndianLanguageDataset(Dataset):\n",
        "  def __init__(self, metadata, audio_dir, target_sample_rate, num_samples, transformation):\n",
        "    self.annotations = pd.read_csv(metadata)\n",
        "    self.audio_dir = audio_dir\n",
        "    self.target_sample_rate = target_sample_rate\n",
        "    self.num_samples = num_samples\n",
        "    self.transformation = transformation\n",
        "\n",
        "  def __len__(self):\n",
        "    return len(self.annotations)\n",
        "\n",
        "  def __getitem__(self,idx):\n",
        "    audio_sample_path = self._get_audio_sample_path(idx)\n",
        "    label = self._get_audio_sample_label(idx)\n",
        "    signal, sr = torchaudio.load(audio_sample_path)\n",
        "    signal = self.resample_audio(signal, sr)\n",
        "    signal = self.mix_down_channels(signal)\n",
        "    signal = self.cut_if_needed(signal)\n",
        "    signal = self.right_padding(signal)\n",
        "    signal = self.transformation(signal)\n",
        "    return signal , label\n",
        "\n",
        "  def _get_audio_sample_path(self,idx):\n",
        "    class_name = f\"{self.annotations.iloc[idx, 1]}\"\n",
        "    path = os.path.join(self.audio_dir, class_name, self.annotations.iloc[idx, 0])\n",
        "    return path\n",
        "\n",
        "  def _get_audio_sample_label(self, idx):\n",
        "    return self.annotations.iloc[idx, 2]\n",
        "\n",
        "  def resample_audio(self, signal, sr):\n",
        "    if sr != self.target_sample_rate:\n",
        "        resampler = torchaudio.transforms.Resample(sr, self.target_sample_rate)\n",
        "        signal = resampler(signal)\n",
        "    return signal\n",
        "\n",
        "  def mix_down_channels(self, signal):\n",
        "    if signal.shape[0] > 1:\n",
        "        signal = torch.mean(signal, dim = 0, keepdim=True)\n",
        "    return signal\n",
        "\n",
        "  def cut_if_needed(self, signal):\n",
        "    if signal.shape[1] > self.num_samples:\n",
        "        signal = signal[:, :self.num_samples]\n",
        "    return signal\n",
        "\n",
        "  def right_padding(self, signal):\n",
        "    length_signal = signal.shape[1]\n",
        "    if length_signal < self.num_samples:\n",
        "        num_missing = self.num_samples - length_signal\n",
        "        last_dim_padding = (0, num_missing)\n",
        "        signal = torch.nn.functional.pad(signal, last_dim_padding)\n",
        "    return signal"
      ],
      "metadata": {
        "id": "W3TGJpFan9Qy"
      },
      "execution_count": 11,
      "outputs": []
    },
    {
      "cell_type": "code",
      "source": [
        "# create MEl spectrogram transformations\n",
        "SAMPLE_RATE = 48000\n",
        "NUM_SAMPLES = 240000\n",
        "\n",
        "mel_spectrogram = torchaudio.transforms.MelSpectrogram(sample_rate=SAMPLE_RATE)\n"
      ],
      "metadata": {
        "id": "wj3vG6N0n_6K"
      },
      "execution_count": 12,
      "outputs": []
    },
    {
      "cell_type": "code",
      "source": [
        "ild = IndianLanguageDataset(metadata='metadata.csv',\n",
        "                            audio_dir=wav_dir,\n",
        "                            target_sample_rate=SAMPLE_RATE,\n",
        "                            transformation=mel_spectrogram,\n",
        "                            num_samples= NUM_SAMPLES)\n",
        "print(f\"there are {len(ild)} samples in the dataset\")"
      ],
      "metadata": {
        "colab": {
          "base_uri": "https://localhost:8080/"
        },
        "id": "iVwk89DDdQ0E",
        "outputId": "4818d4d5-cb3d-4579-ad59-d6d65acc0d67"
      },
      "execution_count": 13,
      "outputs": [
        {
          "output_type": "stream",
          "name": "stdout",
          "text": [
            "there are 5017 samples in the dataset\n"
          ]
        }
      ]
    },
    {
      "cell_type": "code",
      "source": [
        "specgram , label = ild[14]"
      ],
      "metadata": {
        "id": "GSyCwFk6dSjh"
      },
      "execution_count": 14,
      "outputs": []
    },
    {
      "cell_type": "code",
      "source": [
        "print(f'signal:{specgram.shape} \\n label: {label}')"
      ],
      "metadata": {
        "colab": {
          "base_uri": "https://localhost:8080/"
        },
        "id": "EdOtfzXVdUdC",
        "outputId": "35732819-9c19-4ab2-c402-10b4230f7d95"
      },
      "execution_count": 15,
      "outputs": [
        {
          "output_type": "stream",
          "name": "stdout",
          "text": [
            "signal:torch.Size([1, 128, 1201]) \n",
            " label: 0\n"
          ]
        }
      ]
    },
    {
      "cell_type": "code",
      "source": [
        "import matplotlib.pyplot as plt\n",
        "from IPython.display import Audio\n",
        "\n",
        "def plot_spectrogram(specgram, title=None, ylabel=\"freq_bin\"):\n",
        "    fig, axs = plt.subplots(1, 1)\n",
        "    axs.set_title(title or \"Spectrogram (db)\")\n",
        "    axs.set_ylabel(ylabel)\n",
        "    axs.set_xlabel(\"frame\")\n",
        "    im = axs.imshow(specgram.squeeze(), origin=\"lower\", aspect=\"auto\")\n",
        "    fig.colorbar(im, ax=axs)\n",
        "    plt.show(block=False)"
      ],
      "metadata": {
        "id": "9XoU0SFtdV4q"
      },
      "execution_count": 16,
      "outputs": []
    },
    {
      "cell_type": "code",
      "source": [
        "plot_spectrogram(specgram, title='MelSpectrogram')"
      ],
      "metadata": {
        "colab": {
          "base_uri": "https://localhost:8080/",
          "height": 472
        },
        "id": "Bjqijn0NdYYD",
        "outputId": "94072072-8203-4105-ed2c-6aef75486cf0"
      },
      "execution_count": 17,
      "outputs": [
        {
          "output_type": "display_data",
          "data": {
            "text/plain": [
              "<Figure size 640x480 with 2 Axes>"
            ],
            "image/png": "[encoded data removed]"
          },
          "metadata": {}
        }
      ]
    },
    {
      "cell_type": "code",
      "source": [
        "sample_data, sr = torchaudio.load(\"/content/final_data/language-audio-data/Hindi/Hindi1-1001.wav\")"
      ],
      "metadata": {
        "id": "nLkhEAW2dZjS"
      },
      "execution_count": 20,
      "outputs": []
    },
    {
      "cell_type": "code",
      "source": [],
      "metadata": {
        "id": "xqvedwXVdi4U"
      },
      "execution_count": 20,
      "outputs": []
    },
    {
      "cell_type": "markdown",
      "source": [
        "## CNN MODEL"
      ],
      "metadata": {
        "id": "wBREUn-Udk4q"
      }
    },
    {
      "cell_type": "code",
      "source": [
        "import torch.nn as nn\n",
        "from torch.utils.data import DataLoader\n",
        "import torch.nn.functional as F\n",
        "from torchsummary import summary\n",
        "\n",
        "class ImageClassification(nn.Module):\n",
        "    def training_step(self, batch):\n",
        "      images, labels = batch\n",
        "      out = self(images)                  # Generate predictions\n",
        "      loss = F.cross_entropy(out, labels) # Calculate loss\n",
        "      return loss\n",
        "\n",
        "    def validation_step(self, batch):\n",
        "      images, labels = batch\n",
        "      out = self(images)                    # Generate predictions\n",
        "      loss = F.cross_entropy(out, labels)   # Calculate loss\n",
        "      acc = accuracy(out, labels)           # Calculate accuracy\n",
        "      return {'val_loss': loss.detach(), 'val_acc': acc}\n",
        "\n",
        "    def validation_epoch_end(self, outputs):\n",
        "      batch_losses = [x['val_loss'] for x in outputs]\n",
        "      epoch_loss = torch.stack(batch_losses).mean()   # Combine losses\n",
        "      batch_accs = [x['val_acc'] for x in outputs]\n",
        "      epoch_acc = torch.stack(batch_accs).mean()      # Combine accuracies\n",
        "      return {'val_loss': epoch_loss.item(), 'val_acc': epoch_acc.item()}\n",
        "\n",
        "    def epoch_end(self, epoch, result):\n",
        "      print(\"Epoch [{}], train_loss: {:.4f}, val_loss: {:.4f}, val_acc: {:.4f}\".format(\n",
        "          epoch, result['train_loss'], result['val_loss'], result['val_acc']))\n",
        "\n",
        "def accuracy(outputs, labels):\n",
        "    _, preds = torch.max(outputs, dim=1)\n",
        "    return torch.tensor(torch.sum(preds == labels).item() / len(preds))"
      ],
      "metadata": {
        "id": "xL8eqLuYdlGy"
      },
      "execution_count": 21,
      "outputs": []
    },
    {
      "cell_type": "code",
      "source": [],
      "metadata": {
        "id": "29s9zye2dmQT"
      },
      "execution_count": 21,
      "outputs": []
    },
    {
      "cell_type": "markdown",
      "source": [
        "Model Architecture"
      ],
      "metadata": {
        "id": "_0fHb47Odn4j"
      }
    },
    {
      "cell_type": "code",
      "source": [
        "class CNNNetwork(ImageClassification):\n",
        "    def __init__(self, in_channels, num_classes):\n",
        "        super().__init__()\n",
        "        self.conv1 = self.conv_block(in_channels, 16, pool=True)\n",
        "        self.conv2 = self.conv_block(16, 32, pool=True)\n",
        "        self.conv3 = self.conv_block(32, 64, pool=True)\n",
        "        self.conv4 = self.conv_block(64, 128, pool=True)\n",
        "        self.flatten = nn.Flatten()\n",
        "        self.dropout = nn.Dropout(0.2)\n",
        "        self.linear = nn.Linear(128 * 5 * 4, num_classes)\n",
        "        self.softmax = nn.Softmax(dim=1)\n",
        "\n",
        "    @staticmethod\n",
        "    def conv_block(in_channels, out_channels, pool=False):\n",
        "        layers = [nn.Conv2d(in_channels, out_channels, kernel_size=3, stride=1, padding=2),\n",
        "                  nn.BatchNorm2d(out_channels),\n",
        "                  nn.ReLU(inplace=True)]\n",
        "        if pool: layers.append(nn.MaxPool2d(kernel_size=2))\n",
        "        return nn.Sequential(*layers)\n",
        "\n",
        "    def forward(self, input_data):\n",
        "        out = self.conv1(input_data)\n",
        "        out = self.conv2(out)\n",
        "        out = self.conv3(out)\n",
        "        out = self.conv4(out)\n",
        "        out = self.flatten(out)\n",
        "        out = self.dropout(out)\n",
        "        logits = self.linear(out)\n",
        "        predictions = self.softmax(logits)\n",
        "        return predictions"
      ],
      "metadata": {
        "id": "ozK5HktTdrOT"
      },
      "execution_count": 22,
      "outputs": []
    },
    {
      "cell_type": "code",
      "source": [
        "cnn = CNNNetwork(in_channels = 1, num_classes = 4)"
      ],
      "metadata": {
        "id": "iieMqlsfds-K"
      },
      "execution_count": 23,
      "outputs": []
    },
    {
      "cell_type": "code",
      "source": [
        "summary(cnn.cuda(), (1,62,40))"
      ],
      "metadata": {
        "colab": {
          "base_uri": "https://localhost:8080/"
        },
        "id": "RiIsMVPMduez",
        "outputId": "e99a61d6-ca75-4535-c5a3-aa1e7bbba552"
      },
      "execution_count": 24,
      "outputs": [
        {
          "output_type": "stream",
          "name": "stdout",
          "text": [
            "----------------------------------------------------------------\n",
            "        Layer (type)               Output Shape         Param #\n",
            "================================================================\n",
            "            Conv2d-1           [-1, 16, 64, 42]             160\n",
            "       BatchNorm2d-2           [-1, 16, 64, 42]              32\n",
            "              ReLU-3           [-1, 16, 64, 42]               0\n",
            "         MaxPool2d-4           [-1, 16, 32, 21]               0\n",
            "            Conv2d-5           [-1, 32, 34, 23]           4,640\n",
            "       BatchNorm2d-6           [-1, 32, 34, 23]              64\n",
            "              ReLU-7           [-1, 32, 34, 23]               0\n",
            "         MaxPool2d-8           [-1, 32, 17, 11]               0\n",
            "            Conv2d-9           [-1, 64, 19, 13]          18,496\n",
            "      BatchNorm2d-10           [-1, 64, 19, 13]             128\n",
            "             ReLU-11           [-1, 64, 19, 13]               0\n",
            "        MaxPool2d-12             [-1, 64, 9, 6]               0\n",
            "           Conv2d-13           [-1, 128, 11, 8]          73,856\n",
            "      BatchNorm2d-14           [-1, 128, 11, 8]             256\n",
            "             ReLU-15           [-1, 128, 11, 8]               0\n",
            "        MaxPool2d-16            [-1, 128, 5, 4]               0\n",
            "          Flatten-17                 [-1, 2560]               0\n",
            "          Dropout-18                 [-1, 2560]               0\n",
            "           Linear-19                    [-1, 4]          10,244\n",
            "          Softmax-20                    [-1, 4]               0\n",
            "================================================================\n",
            "Total params: 107,876\n",
            "Trainable params: 107,876\n",
            "Non-trainable params: 0\n",
            "----------------------------------------------------------------\n",
            "Input size (MB): 0.01\n",
            "Forward/backward pass size (MB): 2.39\n",
            "Params size (MB): 0.41\n",
            "Estimated Total Size (MB): 2.81\n",
            "----------------------------------------------------------------\n"
          ]
        }
      ]
    },
    {
      "cell_type": "code",
      "source": [],
      "metadata": {
        "id": "SiPhYzdWdvzy"
      },
      "execution_count": 24,
      "outputs": []
    },
    {
      "cell_type": "markdown",
      "source": [
        "GPU Functions"
      ],
      "metadata": {
        "id": "tJYR_-6FdztW"
      }
    },
    {
      "cell_type": "code",
      "source": [
        "def get_default_device():\n",
        "    \"\"\"Pick GPU if available, else CPU\"\"\"\n",
        "    if torch.cuda.is_available():\n",
        "        return torch.device('cuda')\n",
        "    else:\n",
        "        return torch.device('cpu')\n",
        "\n",
        "def to_device(data, device):\n",
        "    \"\"\"Move tensor(s) to chosen device\"\"\"\n",
        "    if isinstance(data, (list,tuple)):\n",
        "        return [to_device(x, device) for x in data]\n",
        "    return data.to(device, non_blocking=True)\n",
        "\n",
        "class GPUDataLoader():\n",
        "    \"\"\"Wrap a pytorch Dataloader to move data to a device\"\"\"\n",
        "    def __init__(self, dl, device):\n",
        "        self.dl = dl\n",
        "        self.device = device\n",
        "\n",
        "    def __iter__(self):\n",
        "        \"\"\"Yield a batch of data after moving it to device\"\"\"\n",
        "        for b in self.dl:\n",
        "            yield to_device(b, self.device)\n",
        "\n",
        "    def __len__(self):\n",
        "        \"\"\"Number of batches\"\"\"\n",
        "        return len(self.dl)"
      ],
      "metadata": {
        "id": "vBMyizRgd1Cb"
      },
      "execution_count": 25,
      "outputs": []
    },
    {
      "cell_type": "code",
      "source": [],
      "metadata": {
        "id": "oKZbPwmed1gb"
      },
      "execution_count": 25,
      "outputs": []
    },
    {
      "cell_type": "markdown",
      "source": [
        "Training Function"
      ],
      "metadata": {
        "id": "23WBXfe3d3OT"
      }
    },
    {
      "cell_type": "code",
      "source": [
        "from torch.optim.lr_scheduler import StepLR\n",
        "from tqdm import tqdm\n",
        "\n",
        "@torch.no_grad()\n",
        "def evaluate(model, val_loader):\n",
        "  model.eval()\n",
        "  outputs = [model.validation_step(batch) for batch in val_loader]\n",
        "  return model.validation_epoch_end(outputs)\n",
        "\n",
        "\n",
        "def fit(model, train_loader, val_loader, epochs, lr, opt_func):\n",
        "  history = []\n",
        "  optimizer = opt_func(model.parameters(), lr)\n",
        "  scheduler = StepLR(optimizer= optimizer,\n",
        "                  step_size = 3,\n",
        "                  gamma= 0.1)\n",
        "  for epoch in range(1, epochs+1):\n",
        "    #Training\n",
        "    print('Epoch:', epoch,'LR:', scheduler.get_last_lr())\n",
        "    train_losses = []\n",
        "    model.train()\n",
        "    loop = tqdm(enumerate(train_loader), total=len(train_loader), leave=False)\n",
        "    for batch_idx, batch in loop:\n",
        "        loss = model.training_step(batch)\n",
        "        train_losses.append(loss)\n",
        "\n",
        "        # backward\n",
        "        optimizer.zero_grad()\n",
        "        loss.backward()\n",
        "\n",
        "        # gradient descent\n",
        "        optimizer.step()\n",
        "        scheduler.step()\n",
        "\n",
        "        # update progress bar\n",
        "        loop.set_description(f\"Epoch [{epoch}/{epochs}]\")\n",
        "        loop.set_postfix(loss = loss.item())\n",
        "\n",
        "    # validation steps\n",
        "    result = evaluate(model, val_loader)\n",
        "    result['train_loss'] = torch.stack(train_losses).mean().item()\n",
        "    model.epoch_end(epoch, result)\n",
        "    history.append(result)\n",
        "  return history"
      ],
      "metadata": {
        "id": "M9UpmFLHd4Tr"
      },
      "execution_count": 26,
      "outputs": []
    },
    {
      "cell_type": "code",
      "source": [],
      "metadata": {
        "id": "4kaZCKMSd4fD"
      },
      "execution_count": 26,
      "outputs": []
    },
    {
      "cell_type": "markdown",
      "source": [
        "### Make stratified split of data to have same number of samples per each class"
      ],
      "metadata": {
        "id": "HFWv-FsQd7ma"
      }
    },
    {
      "cell_type": "code",
      "source": [
        "from sklearn.model_selection import StratifiedShuffleSplit\n",
        "\n",
        "split = StratifiedShuffleSplit(n_splits=5, train_size=0.7, test_size=0.3, random_state=36)\n",
        "for train_index, test_index in split.split(metadata, metadata['labels']):\n",
        "    strat_train_set = metadata.loc[train_index]\n",
        "    strat_val_set = metadata.loc[test_index]\n",
        "\n",
        "strat_train_set.to_csv('metadata_train.csv', index=False)\n",
        "strat_val_set.to_csv('metadata_val.csv', index=False)"
      ],
      "metadata": {
        "id": "0YGNYUmId7y7"
      },
      "execution_count": 27,
      "outputs": []
    },
    {
      "cell_type": "code",
      "source": [
        "torch.cuda.get_device_name()"
      ],
      "metadata": {
        "colab": {
          "base_uri": "https://localhost:8080/",
          "height": 36
        },
        "id": "Q7IytgNTd8uM",
        "outputId": "677192e1-550b-443d-9b21-5dc4d9ad179e"
      },
      "execution_count": 28,
      "outputs": [
        {
          "output_type": "execute_result",
          "data": {
            "text/plain": [
              "'Tesla T4'"
            ],
            "application/vnd.google.colaboratory.intrinsic+json": {
              "type": "string"
            }
          },
          "metadata": {},
          "execution_count": 28
        }
      ]
    },
    {
      "cell_type": "code",
      "source": [],
      "metadata": {
        "id": "KyaKto0Kd9ul"
      },
      "execution_count": 28,
      "outputs": []
    },
    {
      "cell_type": "markdown",
      "source": [
        "### Move model objects to GPU"
      ],
      "metadata": {
        "id": "OZBKJSEUeADy"
      }
    },
    {
      "cell_type": "code",
      "source": [
        "BATCH_SIZE = 64\n",
        "\n",
        "SAMPLE_RATE = 4000\n",
        "NUM_SAMPLES = 20000\n",
        "\n",
        "mel_spectrogram = torchaudio.transforms.MelSpectrogram(sample_rate=SAMPLE_RATE,\n",
        "                                                  n_fft = 1024,\n",
        "                                                  hop_length = 512,\n",
        "                                                  n_mels = 64)\n",
        "# Adam optimiser\n",
        "optimser = torch.optim.Adam\n",
        "\n",
        "train_lang_data = IndianLanguageDataset(metadata='metadata_train.csv',\n",
        "                                        audio_dir = wav_dir,\n",
        "                                        target_sample_rate=SAMPLE_RATE,\n",
        "                                        transformation=mel_spectrogram,\n",
        "                                        num_samples=NUM_SAMPLES\n",
        "                                        )\n",
        "val_lang_data = IndianLanguageDataset(metadata='metadata_val.csv',\n",
        "                                       audio_dir= wav_dir,\n",
        "                                       target_sample_rate=SAMPLE_RATE,\n",
        "                                       transformation=mel_spectrogram,\n",
        "                                       num_samples=NUM_SAMPLES\n",
        "                                       )\n",
        "\n",
        "train_dl = DataLoader(dataset=train_lang_data,\n",
        "                      batch_size=BATCH_SIZE,\n",
        "                      shuffle=True,\n",
        "                      num_workers=4,\n",
        "                      pin_memory=True)\n",
        "\n",
        "val_dl = DataLoader(dataset=val_lang_data,\n",
        "                      batch_size=BATCH_SIZE*2,\n",
        "                      num_workers=4,\n",
        "                      pin_memory=True)"
      ],
      "metadata": {
        "id": "y8_aMVyGeAPr"
      },
      "execution_count": 29,
      "outputs": []
    },
    {
      "cell_type": "code",
      "source": [
        "device = get_default_device()\n",
        "device"
      ],
      "metadata": {
        "colab": {
          "base_uri": "https://localhost:8080/"
        },
        "id": "L6JzM_1peBYb",
        "outputId": "f55342c8-c986-4df9-e14f-781dd77dd48e"
      },
      "execution_count": 30,
      "outputs": [
        {
          "output_type": "execute_result",
          "data": {
            "text/plain": [
              "device(type='cuda')"
            ]
          },
          "metadata": {},
          "execution_count": 30
        }
      ]
    },
    {
      "cell_type": "code",
      "source": [
        "# move model to device\n",
        "model = to_device(CNNNetwork(1, 4), device)\n",
        "\n",
        "train_dl = GPUDataLoader(train_dl, device)\n",
        "val_dl = GPUDataLoader(val_dl, device)"
      ],
      "metadata": {
        "id": "mdXhUK2SeC3L"
      },
      "execution_count": 31,
      "outputs": []
    },
    {
      "cell_type": "code",
      "source": [],
      "metadata": {
        "id": "zaFhlr0-eEe7"
      },
      "execution_count": 31,
      "outputs": []
    },
    {
      "cell_type": "markdown",
      "source": [
        "## Training the model"
      ],
      "metadata": {
        "id": "rSTqmGwTeGCk"
      }
    },
    {
      "cell_type": "code",
      "source": [
        "evaluate(model, val_dl)"
      ],
      "metadata": {
        "colab": {
          "base_uri": "https://localhost:8080/"
        },
        "id": "eakvZgVXeGPE",
        "outputId": "59c55e49-f68f-4c29-9c5d-860ccc426d6a"
      },
      "execution_count": 32,
      "outputs": [
        {
          "output_type": "execute_result",
          "data": {
            "text/plain": [
              "{'val_loss': 1.431897521018982, 'val_acc': 0.2379092425107956}"
            ]
          },
          "metadata": {},
          "execution_count": 32
        }
      ]
    },
    {
      "cell_type": "code",
      "source": [
        "history = fit(model=model, train_loader=train_dl, val_loader=val_dl, epochs=5, lr=0.01, opt_func=optimser)"
      ],
      "metadata": {
        "colab": {
          "base_uri": "https://localhost:8080/"
        },
        "id": "-cQP22XleHOs",
        "outputId": "ca97e43d-402a-4cb3-d19f-e823c76d0698"
      },
      "execution_count": 33,
      "outputs": [
        {
          "output_type": "stream",
          "name": "stdout",
          "text": [
            "Epoch: 1 LR: [0.01]\n"
          ]
        },
        {
          "output_type": "stream",
          "name": "stderr",
          "text": []
        },
        {
          "output_type": "stream",
          "name": "stdout",
          "text": [
            "Epoch [1], train_loss: 1.2874, val_loss: 1.2827, val_acc: 0.4416\n",
            "Epoch: 2 LR: [1.0000000000000011e-20]\n"
          ]
        },
        {
          "output_type": "stream",
          "name": "stderr",
          "text": []
        },
        {
          "output_type": "stream",
          "name": "stdout",
          "text": [
            "Epoch [2], train_loss: 1.2822, val_loss: 1.2843, val_acc: 0.4377\n",
            "Epoch: 3 LR: [1.000000000000002e-38]\n"
          ]
        },
        {
          "output_type": "stream",
          "name": "stderr",
          "text": []
        },
        {
          "output_type": "stream",
          "name": "stdout",
          "text": [
            "Epoch [3], train_loss: 1.2818, val_loss: 1.2821, val_acc: 0.4409\n",
            "Epoch: 4 LR: [1.000000000000003e-57]\n"
          ]
        },
        {
          "output_type": "stream",
          "name": "stderr",
          "text": []
        },
        {
          "output_type": "stream",
          "name": "stdout",
          "text": [
            "Epoch [4], train_loss: 1.2835, val_loss: 1.2833, val_acc: 0.4383\n",
            "Epoch: 5 LR: [1.0000000000000044e-75]\n"
          ]
        },
        {
          "output_type": "stream",
          "name": "stderr",
          "text": []
        },
        {
          "output_type": "stream",
          "name": "stdout",
          "text": [
            "Epoch [5], train_loss: 1.2807, val_loss: 1.2867, val_acc: 0.4364\n"
          ]
        }
      ]
    },
    {
      "cell_type": "code",
      "source": [
        "torch.save(model.state_dict(), 'model.pt')"
      ],
      "metadata": {
        "id": "6vwkv8u5eQna"
      },
      "execution_count": 34,
      "outputs": []
    },
    {
      "cell_type": "code",
      "source": [],
      "metadata": {
        "id": "3LDqZY-DfuXC"
      },
      "execution_count": 34,
      "outputs": []
    },
    {
      "cell_type": "code",
      "source": [
        "## Loading saved model"
      ],
      "metadata": {
        "id": "qMxhCuV0fwv9"
      },
      "execution_count": 35,
      "outputs": []
    },
    {
      "cell_type": "code",
      "source": [
        "saved_model = torch.load(\"model.pt\")"
      ],
      "metadata": {
        "id": "x2LeJTeofxBz"
      },
      "execution_count": 36,
      "outputs": []
    },
    {
      "cell_type": "code",
      "source": [
        "model1 = CNNNetwork(1,4)"
      ],
      "metadata": {
        "id": "hRy_9sdefyJ7"
      },
      "execution_count": 37,
      "outputs": []
    },
    {
      "cell_type": "code",
      "source": [
        "model1.load_state_dict(saved_model)"
      ],
      "metadata": {
        "colab": {
          "base_uri": "https://localhost:8080/"
        },
        "id": "9n_JgDhnfzjh",
        "outputId": "e8be336f-9546-4831-98d8-7dc93a1d9e6d"
      },
      "execution_count": 38,
      "outputs": [
        {
          "output_type": "execute_result",
          "data": {
            "text/plain": [
              "<All keys matched successfully>"
            ]
          },
          "metadata": {},
          "execution_count": 38
        }
      ]
    },
    {
      "cell_type": "markdown",
      "source": [
        "## Prediction"
      ],
      "metadata": {
        "id": "STUFBrO1f56U"
      }
    },
    {
      "cell_type": "code",
      "source": [
        "le_name_mapping"
      ],
      "metadata": {
        "colab": {
          "base_uri": "https://localhost:8080/"
        },
        "id": "o96HmfjMf6IB",
        "outputId": "e1d0f088-24fb-4d05-e996-c1461c9d127f"
      },
      "execution_count": 39,
      "outputs": [
        {
          "output_type": "execute_result",
          "data": {
            "text/plain": [
              "{'Hindi': 0, 'Kannada': 1, 'Tamil': 2, 'Telugu': 3}"
            ]
          },
          "metadata": {},
          "execution_count": 39
        }
      ]
    },
    {
      "cell_type": "code",
      "source": [
        "torch.device('cpu')"
      ],
      "metadata": {
        "colab": {
          "base_uri": "https://localhost:8080/"
        },
        "id": "FT3XHkxRf6-5",
        "outputId": "5b345c75-a441-4db9-b729-4885c4d1a645"
      },
      "execution_count": 40,
      "outputs": [
        {
          "output_type": "execute_result",
          "data": {
            "text/plain": [
              "device(type='cpu')"
            ]
          },
          "metadata": {},
          "execution_count": 40
        }
      ]
    },
    {
      "cell_type": "code",
      "source": [
        "target_input , label = val_lang_data[1000][0], val_lang_data[1000][1]"
      ],
      "metadata": {
        "id": "9Xb5jpfmf8pq"
      },
      "execution_count": 41,
      "outputs": []
    },
    {
      "cell_type": "code",
      "source": [
        "def predict(model, input, target, class_mapping):\n",
        "    model.eval()\n",
        "    with torch.no_grad():\n",
        "        predictions = model(input)\n",
        "        predicted_index = predictions[0].argmax(0)\n",
        "        predicted = class_mapping[predicted_index]\n",
        "        expected = class_mapping[target]\n",
        "    return predicted, expected"
      ],
      "metadata": {
        "id": "uLnLFOLAf98T"
      },
      "execution_count": 42,
      "outputs": []
    },
    {
      "cell_type": "code",
      "source": [
        "predicted, expected = predict(model=model.to(device='cpu'), input= target_input.unsqueeze_(0), target=label, class_mapping=list(le_name_mapping.keys()))"
      ],
      "metadata": {
        "id": "HeAAlBAcf-sa"
      },
      "execution_count": 43,
      "outputs": []
    },
    {
      "cell_type": "code",
      "source": [
        "print(f\"the model has predicted: {predicted} and the expected class is : {expected}\")"
      ],
      "metadata": {
        "colab": {
          "base_uri": "https://localhost:8080/"
        },
        "id": "STjrF_VMf_-p",
        "outputId": "345618e2-a0c4-4757-fdb4-3881c3d382a9"
      },
      "execution_count": 44,
      "outputs": [
        {
          "output_type": "stream",
          "name": "stdout",
          "text": [
            "the model has predicted: Kannada and the expected class is : Kannada\n"
          ]
        }
      ]
    },
    {
      "cell_type": "code",
      "source": [],
      "metadata": {
        "id": "nk5w1guzgDKe"
      },
      "execution_count": 44,
      "outputs": []
    }
  ]
}